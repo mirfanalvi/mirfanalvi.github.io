{
 "cells": [
  {
   "cell_type": "markdown",
   "id": "85722894",
   "metadata": {},
   "source": [
    "# Homework 10 - Group 17\n",
    "\n",
    "### Members:\n",
    "    Vaibhavi Mehta\n",
    "    Youngbeen Oh\n",
    "    Suhas Chitiki\n",
    "    Muhammad Irfan Alvi"
   ]
  },
  {
   "cell_type": "code",
   "execution_count": 1,
   "id": "ab25eefc",
   "metadata": {},
   "outputs": [],
   "source": [
    "import altair as alt"
   ]
  },
  {
   "cell_type": "code",
   "execution_count": 2,
   "id": "c7244147",
   "metadata": {},
   "outputs": [],
   "source": [
    "# alt.Chart.from dict?"
   ]
  },
  {
   "cell_type": "code",
   "execution_count": 35,
   "id": "213de7cd",
   "metadata": {},
   "outputs": [],
   "source": [
    "myJekyllSaveDir = '/Users/ialvi/mirfanalvi.github.io/assets/json'"
   ]
  },
  {
   "cell_type": "markdown",
   "id": "0484275f",
   "metadata": {},
   "source": []
  },
  {
   "cell_type": "code",
   "execution_count": 20,
   "id": "7dbe07e5",
   "metadata": {},
   "outputs": [],
   "source": [
    "rect1 = alt.Chart.from_dict({\n",
    "  \"data\":{\"url\":\"https://raw.githubusercontent.com/UIUC-iSchool-DataViz/is445_bcubcg_fall2022/main/data/bfro_reports_fall2022.csv\"},\n",
    "  \"mark\":\"rect\",\n",
    "  \"height\":400,\n",
    "  \"width\":300,\n",
    "  \"encoding\":{\n",
    "    \"x\":{\"bin\":{\"maxbins\":10}, \"field\":\"humidity\",\"type\":\"quantitative\"},\n",
    "    \"y\":{\"field\":\"state\", \"type\":\"ordinal\"},\n",
    "    \"color\":{\"aggregate\":\"count\", \"type\":\"quantitative\"} \n",
    "            # // count numbers of rows with State/Student_teacher_ratio combinations\n",
    "  } #// end of encodings\n",
    "}\n",
    ")"
   ]
  },
  {
   "cell_type": "code",
   "execution_count": 21,
   "id": "ad4a457a",
   "metadata": {},
   "outputs": [
    {
     "data": {
      "text/html": [
       "\n",
       "<div id=\"altair-viz-b128adbef8c645fa967a0fda508b46cb\"></div>\n",
       "<script type=\"text/javascript\">\n",
       "  var VEGA_DEBUG = (typeof VEGA_DEBUG == \"undefined\") ? {} : VEGA_DEBUG;\n",
       "  (function(spec, embedOpt){\n",
       "    let outputDiv = document.currentScript.previousElementSibling;\n",
       "    if (outputDiv.id !== \"altair-viz-b128adbef8c645fa967a0fda508b46cb\") {\n",
       "      outputDiv = document.getElementById(\"altair-viz-b128adbef8c645fa967a0fda508b46cb\");\n",
       "    }\n",
       "    const paths = {\n",
       "      \"vega\": \"https://cdn.jsdelivr.net/npm//vega@5?noext\",\n",
       "      \"vega-lib\": \"https://cdn.jsdelivr.net/npm//vega-lib?noext\",\n",
       "      \"vega-lite\": \"https://cdn.jsdelivr.net/npm//vega-lite@4.17.0?noext\",\n",
       "      \"vega-embed\": \"https://cdn.jsdelivr.net/npm//vega-embed@6?noext\",\n",
       "    };\n",
       "\n",
       "    function maybeLoadScript(lib, version) {\n",
       "      var key = `${lib.replace(\"-\", \"\")}_version`;\n",
       "      return (VEGA_DEBUG[key] == version) ?\n",
       "        Promise.resolve(paths[lib]) :\n",
       "        new Promise(function(resolve, reject) {\n",
       "          var s = document.createElement('script');\n",
       "          document.getElementsByTagName(\"head\")[0].appendChild(s);\n",
       "          s.async = true;\n",
       "          s.onload = () => {\n",
       "            VEGA_DEBUG[key] = version;\n",
       "            return resolve(paths[lib]);\n",
       "          };\n",
       "          s.onerror = () => reject(`Error loading script: ${paths[lib]}`);\n",
       "          s.src = paths[lib];\n",
       "        });\n",
       "    }\n",
       "\n",
       "    function showError(err) {\n",
       "      outputDiv.innerHTML = `<div class=\"error\" style=\"color:red;\">${err}</div>`;\n",
       "      throw err;\n",
       "    }\n",
       "\n",
       "    function displayChart(vegaEmbed) {\n",
       "      vegaEmbed(outputDiv, spec, embedOpt)\n",
       "        .catch(err => showError(`Javascript Error: ${err.message}<br>This usually means there's a typo in your chart specification. See the javascript console for the full traceback.`));\n",
       "    }\n",
       "\n",
       "    if(typeof define === \"function\" && define.amd) {\n",
       "      requirejs.config({paths});\n",
       "      require([\"vega-embed\"], displayChart, err => showError(`Error loading script: ${err.message}`));\n",
       "    } else {\n",
       "      maybeLoadScript(\"vega\", \"5\")\n",
       "        .then(() => maybeLoadScript(\"vega-lite\", \"4.17.0\"))\n",
       "        .then(() => maybeLoadScript(\"vega-embed\", \"6\"))\n",
       "        .catch(showError)\n",
       "        .then(() => displayChart(vegaEmbed));\n",
       "    }\n",
       "  })({\"config\": {\"view\": {\"continuousWidth\": 400, \"continuousHeight\": 300}}, \"data\": {\"url\": \"https://raw.githubusercontent.com/UIUC-iSchool-DataViz/is445_bcubcg_fall2022/main/data/bfro_reports_fall2022.csv\"}, \"mark\": \"rect\", \"encoding\": {\"color\": {\"aggregate\": \"count\", \"type\": \"quantitative\"}, \"x\": {\"bin\": {\"maxbins\": 10}, \"field\": \"humidity\", \"type\": \"quantitative\"}, \"y\": {\"field\": \"state\", \"type\": \"ordinal\"}}, \"height\": 400, \"width\": 300, \"$schema\": \"https://vega.github.io/schema/vega-lite/v4.17.0.json\"}, {\"mode\": \"vega-lite\"});\n",
       "</script>"
      ],
      "text/plain": [
       "alt.Chart(...)"
      ]
     },
     "execution_count": 21,
     "metadata": {},
     "output_type": "execute_result"
    }
   ],
   "source": [
    "rect1"
   ]
  },
  {
   "cell_type": "markdown",
   "id": "1ad82125",
   "metadata": {},
   "source": [
    "Rect Chart: \n",
    "In the above heatmap (rect), we visualized the bfro dataset using three encodings: x (the x-axis value of humidity as the quantitative datatype), y (the y-axis value of state as the ordinal datatype), and color (the color of the rectangles in the heatmap, using count of the humidity values which had a quantitative datatype). The color scale is from light green to dark blue, with white meaning that no records were found. The lighter colored rectangles mean that lesser records were found for the corresponding state, and the darker colored rectangles mean that more records were found for that particular state."
   ]
  },
  {
   "cell_type": "code",
   "execution_count": 16,
   "id": "9c3be4c3",
   "metadata": {},
   "outputs": [],
   "source": [
    "hist1 = alt.Chart.from_dict({\n",
    "   \"data\":{\"url\":\"https://raw.githubusercontent.com/UIUC-iSchool-DataViz/is445_bcubcg_fall2022/main/data/bfro_reports_fall2022.csv\"},\n",
    "  \"mark\":\"bar\",\n",
    "  \"encoding\":{\n",
    "    \"x\":{\"bin\":{\"maxbins\":15},\"field\":\"humidity\", \"type\":\"quantitative\", \"title\":\"Humidity Score\"},\n",
    "    \"y\":{\"aggregate\":\"count\", \"type\":\"quantitative\", \"axis\":{\"title\":\"Frequency\"}} #// count up occurances on x-axis (Mobility)\n",
    "  } #// end of encoding\n",
    "}   \n",
    ")"
   ]
  },
  {
   "cell_type": "code",
   "execution_count": 17,
   "id": "8dcbf342",
   "metadata": {},
   "outputs": [
    {
     "data": {
      "text/html": [
       "\n",
       "<div id=\"altair-viz-2012fd9ad05444b3b68654975b89cf58\"></div>\n",
       "<script type=\"text/javascript\">\n",
       "  var VEGA_DEBUG = (typeof VEGA_DEBUG == \"undefined\") ? {} : VEGA_DEBUG;\n",
       "  (function(spec, embedOpt){\n",
       "    let outputDiv = document.currentScript.previousElementSibling;\n",
       "    if (outputDiv.id !== \"altair-viz-2012fd9ad05444b3b68654975b89cf58\") {\n",
       "      outputDiv = document.getElementById(\"altair-viz-2012fd9ad05444b3b68654975b89cf58\");\n",
       "    }\n",
       "    const paths = {\n",
       "      \"vega\": \"https://cdn.jsdelivr.net/npm//vega@5?noext\",\n",
       "      \"vega-lib\": \"https://cdn.jsdelivr.net/npm//vega-lib?noext\",\n",
       "      \"vega-lite\": \"https://cdn.jsdelivr.net/npm//vega-lite@4.17.0?noext\",\n",
       "      \"vega-embed\": \"https://cdn.jsdelivr.net/npm//vega-embed@6?noext\",\n",
       "    };\n",
       "\n",
       "    function maybeLoadScript(lib, version) {\n",
       "      var key = `${lib.replace(\"-\", \"\")}_version`;\n",
       "      return (VEGA_DEBUG[key] == version) ?\n",
       "        Promise.resolve(paths[lib]) :\n",
       "        new Promise(function(resolve, reject) {\n",
       "          var s = document.createElement('script');\n",
       "          document.getElementsByTagName(\"head\")[0].appendChild(s);\n",
       "          s.async = true;\n",
       "          s.onload = () => {\n",
       "            VEGA_DEBUG[key] = version;\n",
       "            return resolve(paths[lib]);\n",
       "          };\n",
       "          s.onerror = () => reject(`Error loading script: ${paths[lib]}`);\n",
       "          s.src = paths[lib];\n",
       "        });\n",
       "    }\n",
       "\n",
       "    function showError(err) {\n",
       "      outputDiv.innerHTML = `<div class=\"error\" style=\"color:red;\">${err}</div>`;\n",
       "      throw err;\n",
       "    }\n",
       "\n",
       "    function displayChart(vegaEmbed) {\n",
       "      vegaEmbed(outputDiv, spec, embedOpt)\n",
       "        .catch(err => showError(`Javascript Error: ${err.message}<br>This usually means there's a typo in your chart specification. See the javascript console for the full traceback.`));\n",
       "    }\n",
       "\n",
       "    if(typeof define === \"function\" && define.amd) {\n",
       "      requirejs.config({paths});\n",
       "      require([\"vega-embed\"], displayChart, err => showError(`Error loading script: ${err.message}`));\n",
       "    } else {\n",
       "      maybeLoadScript(\"vega\", \"5\")\n",
       "        .then(() => maybeLoadScript(\"vega-lite\", \"4.17.0\"))\n",
       "        .then(() => maybeLoadScript(\"vega-embed\", \"6\"))\n",
       "        .catch(showError)\n",
       "        .then(() => displayChart(vegaEmbed));\n",
       "    }\n",
       "  })({\"config\": {\"view\": {\"continuousWidth\": 400, \"continuousHeight\": 300}}, \"data\": {\"url\": \"https://raw.githubusercontent.com/UIUC-iSchool-DataViz/is445_bcubcg_fall2022/main/data/bfro_reports_fall2022.csv\"}, \"mark\": \"bar\", \"encoding\": {\"x\": {\"bin\": {\"maxbins\": 15}, \"field\": \"humidity\", \"title\": \"Humidity Score\", \"type\": \"quantitative\"}, \"y\": {\"aggregate\": \"count\", \"axis\": {\"title\": \"Frequency\"}, \"type\": \"quantitative\"}}, \"$schema\": \"https://vega.github.io/schema/vega-lite/v4.17.0.json\"}, {\"mode\": \"vega-lite\"});\n",
       "</script>"
      ],
      "text/plain": [
       "alt.Chart(...)"
      ]
     },
     "execution_count": 17,
     "metadata": {},
     "output_type": "execute_result"
    }
   ],
   "source": [
    "hist1"
   ]
  },
  {
   "cell_type": "markdown",
   "id": "6df9659b",
   "metadata": {},
   "source": [
    "In the above histogram, we visualized the same bfro dataset using two encodings: x (the x-axis value of humidity as the quantitative datatype grouped into bins), and y (the y-axis value of the count of values for humidity that had quantitative datatype). Since we wanted to show a simple histogram with the height of each bar being self-explanatory - taller the bar, more frequent was the corresponding humidity score in the dataset, so we did not feel the need to add in any color scale in this chart."
   ]
  },
  {
   "cell_type": "code",
   "execution_count": 22,
   "id": "6995a73d",
   "metadata": {},
   "outputs": [],
   "source": [
    "chart = alt.HConcatChart(hconcat=[rect1,hist1])"
   ]
  },
  {
   "cell_type": "code",
   "execution_count": 23,
   "id": "e8b4eb75",
   "metadata": {},
   "outputs": [
    {
     "data": {
      "text/html": [
       "\n",
       "<div id=\"altair-viz-08e8876a6412454e95a767a6fdfd4cbe\"></div>\n",
       "<script type=\"text/javascript\">\n",
       "  var VEGA_DEBUG = (typeof VEGA_DEBUG == \"undefined\") ? {} : VEGA_DEBUG;\n",
       "  (function(spec, embedOpt){\n",
       "    let outputDiv = document.currentScript.previousElementSibling;\n",
       "    if (outputDiv.id !== \"altair-viz-08e8876a6412454e95a767a6fdfd4cbe\") {\n",
       "      outputDiv = document.getElementById(\"altair-viz-08e8876a6412454e95a767a6fdfd4cbe\");\n",
       "    }\n",
       "    const paths = {\n",
       "      \"vega\": \"https://cdn.jsdelivr.net/npm//vega@5?noext\",\n",
       "      \"vega-lib\": \"https://cdn.jsdelivr.net/npm//vega-lib?noext\",\n",
       "      \"vega-lite\": \"https://cdn.jsdelivr.net/npm//vega-lite@4.17.0?noext\",\n",
       "      \"vega-embed\": \"https://cdn.jsdelivr.net/npm//vega-embed@6?noext\",\n",
       "    };\n",
       "\n",
       "    function maybeLoadScript(lib, version) {\n",
       "      var key = `${lib.replace(\"-\", \"\")}_version`;\n",
       "      return (VEGA_DEBUG[key] == version) ?\n",
       "        Promise.resolve(paths[lib]) :\n",
       "        new Promise(function(resolve, reject) {\n",
       "          var s = document.createElement('script');\n",
       "          document.getElementsByTagName(\"head\")[0].appendChild(s);\n",
       "          s.async = true;\n",
       "          s.onload = () => {\n",
       "            VEGA_DEBUG[key] = version;\n",
       "            return resolve(paths[lib]);\n",
       "          };\n",
       "          s.onerror = () => reject(`Error loading script: ${paths[lib]}`);\n",
       "          s.src = paths[lib];\n",
       "        });\n",
       "    }\n",
       "\n",
       "    function showError(err) {\n",
       "      outputDiv.innerHTML = `<div class=\"error\" style=\"color:red;\">${err}</div>`;\n",
       "      throw err;\n",
       "    }\n",
       "\n",
       "    function displayChart(vegaEmbed) {\n",
       "      vegaEmbed(outputDiv, spec, embedOpt)\n",
       "        .catch(err => showError(`Javascript Error: ${err.message}<br>This usually means there's a typo in your chart specification. See the javascript console for the full traceback.`));\n",
       "    }\n",
       "\n",
       "    if(typeof define === \"function\" && define.amd) {\n",
       "      requirejs.config({paths});\n",
       "      require([\"vega-embed\"], displayChart, err => showError(`Error loading script: ${err.message}`));\n",
       "    } else {\n",
       "      maybeLoadScript(\"vega\", \"5\")\n",
       "        .then(() => maybeLoadScript(\"vega-lite\", \"4.17.0\"))\n",
       "        .then(() => maybeLoadScript(\"vega-embed\", \"6\"))\n",
       "        .catch(showError)\n",
       "        .then(() => displayChart(vegaEmbed));\n",
       "    }\n",
       "  })({\"config\": {\"view\": {\"continuousWidth\": 400, \"continuousHeight\": 300}}, \"hconcat\": [{\"data\": {\"url\": \"https://raw.githubusercontent.com/UIUC-iSchool-DataViz/is445_bcubcg_fall2022/main/data/bfro_reports_fall2022.csv\"}, \"mark\": \"rect\", \"encoding\": {\"color\": {\"aggregate\": \"count\", \"type\": \"quantitative\"}, \"x\": {\"bin\": {\"maxbins\": 10}, \"field\": \"humidity\", \"type\": \"quantitative\"}, \"y\": {\"field\": \"state\", \"type\": \"ordinal\"}}, \"height\": 400, \"width\": 300}, {\"data\": {\"url\": \"https://raw.githubusercontent.com/UIUC-iSchool-DataViz/is445_bcubcg_fall2022/main/data/bfro_reports_fall2022.csv\"}, \"mark\": \"bar\", \"encoding\": {\"x\": {\"bin\": {\"maxbins\": 15}, \"field\": \"humidity\", \"title\": \"Humidity Score\", \"type\": \"quantitative\"}, \"y\": {\"aggregate\": \"count\", \"axis\": {\"title\": \"Frequency\"}, \"type\": \"quantitative\"}}}], \"$schema\": \"https://vega.github.io/schema/vega-lite/v4.17.0.json\"}, {\"mode\": \"vega-lite\"});\n",
       "</script>"
      ],
      "text/plain": [
       "alt.HConcatChart(...)"
      ]
     },
     "execution_count": 23,
     "metadata": {},
     "output_type": "execute_result"
    }
   ],
   "source": [
    "chart"
   ]
  },
  {
   "cell_type": "markdown",
   "id": "22fc79df",
   "metadata": {},
   "source": [
    "The above dashboard displays a side-by-side visual representation of a rect map (heatmap) with the humidity values (per state) and a histogram of the frequency of humidity scores."
   ]
  },
  {
   "cell_type": "code",
   "execution_count": 37,
   "id": "73444f58",
   "metadata": {},
   "outputs": [],
   "source": [
    "chart.save(myJekyllSaveDir+'sidebyside1.json')"
   ]
  },
  {
   "cell_type": "code",
   "execution_count": 25,
   "id": "e54cd1a0",
   "metadata": {},
   "outputs": [],
   "source": [
    "brush = alt.selection_interval(encodings=['x','y'])"
   ]
  },
  {
   "cell_type": "code",
   "execution_count": 26,
   "id": "9de98f10",
   "metadata": {},
   "outputs": [
    {
     "data": {
      "text/html": [
       "\n",
       "<div id=\"altair-viz-f840ddd9f14c47269b237ff21a56a8ab\"></div>\n",
       "<script type=\"text/javascript\">\n",
       "  var VEGA_DEBUG = (typeof VEGA_DEBUG == \"undefined\") ? {} : VEGA_DEBUG;\n",
       "  (function(spec, embedOpt){\n",
       "    let outputDiv = document.currentScript.previousElementSibling;\n",
       "    if (outputDiv.id !== \"altair-viz-f840ddd9f14c47269b237ff21a56a8ab\") {\n",
       "      outputDiv = document.getElementById(\"altair-viz-f840ddd9f14c47269b237ff21a56a8ab\");\n",
       "    }\n",
       "    const paths = {\n",
       "      \"vega\": \"https://cdn.jsdelivr.net/npm//vega@5?noext\",\n",
       "      \"vega-lib\": \"https://cdn.jsdelivr.net/npm//vega-lib?noext\",\n",
       "      \"vega-lite\": \"https://cdn.jsdelivr.net/npm//vega-lite@4.17.0?noext\",\n",
       "      \"vega-embed\": \"https://cdn.jsdelivr.net/npm//vega-embed@6?noext\",\n",
       "    };\n",
       "\n",
       "    function maybeLoadScript(lib, version) {\n",
       "      var key = `${lib.replace(\"-\", \"\")}_version`;\n",
       "      return (VEGA_DEBUG[key] == version) ?\n",
       "        Promise.resolve(paths[lib]) :\n",
       "        new Promise(function(resolve, reject) {\n",
       "          var s = document.createElement('script');\n",
       "          document.getElementsByTagName(\"head\")[0].appendChild(s);\n",
       "          s.async = true;\n",
       "          s.onload = () => {\n",
       "            VEGA_DEBUG[key] = version;\n",
       "            return resolve(paths[lib]);\n",
       "          };\n",
       "          s.onerror = () => reject(`Error loading script: ${paths[lib]}`);\n",
       "          s.src = paths[lib];\n",
       "        });\n",
       "    }\n",
       "\n",
       "    function showError(err) {\n",
       "      outputDiv.innerHTML = `<div class=\"error\" style=\"color:red;\">${err}</div>`;\n",
       "      throw err;\n",
       "    }\n",
       "\n",
       "    function displayChart(vegaEmbed) {\n",
       "      vegaEmbed(outputDiv, spec, embedOpt)\n",
       "        .catch(err => showError(`Javascript Error: ${err.message}<br>This usually means there's a typo in your chart specification. See the javascript console for the full traceback.`));\n",
       "    }\n",
       "\n",
       "    if(typeof define === \"function\" && define.amd) {\n",
       "      requirejs.config({paths});\n",
       "      require([\"vega-embed\"], displayChart, err => showError(`Error loading script: ${err.message}`));\n",
       "    } else {\n",
       "      maybeLoadScript(\"vega\", \"5\")\n",
       "        .then(() => maybeLoadScript(\"vega-lite\", \"4.17.0\"))\n",
       "        .then(() => maybeLoadScript(\"vega-embed\", \"6\"))\n",
       "        .catch(showError)\n",
       "        .then(() => displayChart(vegaEmbed));\n",
       "    }\n",
       "  })({\"config\": {\"view\": {\"continuousWidth\": 400, \"continuousHeight\": 300}}, \"data\": {\"url\": \"https://raw.githubusercontent.com/UIUC-iSchool-DataViz/is445_bcubcg_fall2022/main/data/bfro_reports_fall2022.csv\"}, \"mark\": \"rect\", \"encoding\": {\"color\": {\"aggregate\": \"count\", \"type\": \"quantitative\"}, \"x\": {\"bin\": {\"maxbins\": 10}, \"field\": \"humidity\", \"type\": \"quantitative\"}, \"y\": {\"field\": \"state\", \"type\": \"ordinal\"}}, \"height\": 400, \"selection\": {\"selector001\": {\"type\": \"interval\", \"encodings\": [\"x\", \"y\"]}}, \"width\": 300, \"$schema\": \"https://vega.github.io/schema/vega-lite/v4.17.0.json\"}, {\"mode\": \"vega-lite\"});\n",
       "</script>"
      ],
      "text/plain": [
       "alt.Chart(...)"
      ]
     },
     "execution_count": 26,
     "metadata": {},
     "output_type": "execute_result"
    }
   ],
   "source": [
    "rect1 = alt.Chart.from_dict({\n",
    "  \"data\":{\"url\":\"https://raw.githubusercontent.com/UIUC-iSchool-DataViz/is445_bcubcg_fall2022/main/data/bfro_reports_fall2022.csv\"},\n",
    "  \"mark\":\"rect\",\n",
    "  \"height\":400,\n",
    "  \"width\":300,\n",
    "  \"encoding\":{\n",
    "    \"x\":{\"bin\":{\"maxbins\":10}, \"field\":\"humidity\",\"type\":\"quantitative\"},\n",
    "    \"y\":{\"field\":\"state\", \"type\":\"ordinal\"},\n",
    "    \"color\":{\"aggregate\":\"count\", \"type\":\"quantitative\"} \n",
    "            # // count numbers of rows with State/Student_teacher_ratio combinations\n",
    "  } #// end of encodings\n",
    "}\n",
    ").add_selection(\n",
    "brush)\n",
    "rect1"
   ]
  },
  {
   "cell_type": "code",
   "execution_count": 28,
   "id": "189b90a1",
   "metadata": {},
   "outputs": [],
   "source": [
    "hist1 = alt.Chart.from_dict({\n",
    "   \"data\":{\"url\":\"https://raw.githubusercontent.com/UIUC-iSchool-DataViz/is445_bcubcg_fall2022/main/data/bfro_reports_fall2022.csv\"},\n",
    "  \"mark\":\"bar\",\n",
    "  \"encoding\":{\n",
    "    \"x\":{\"bin\":{\"maxbins\":15},\"field\":\"humidity\", \"type\":\"quantitative\", \"title\":\"Humidity Score\"},\n",
    "    \"y\":{\"aggregate\":\"count\", \"type\":\"quantitative\", \"axis\":{\"title\":\"Frequency\"}} #// count up occurances on x-axis (Mobility)\n",
    "  } #// end of encoding\n",
    "}   \n",
    ").transform_filter(\n",
    "brush\n",
    ")"
   ]
  },
  {
   "cell_type": "code",
   "execution_count": 30,
   "id": "8075bdd7",
   "metadata": {},
   "outputs": [],
   "source": [
    "dashboard1 = rect1 | hist1"
   ]
  },
  {
   "cell_type": "code",
   "execution_count": 31,
   "id": "17cc7c9d",
   "metadata": {},
   "outputs": [
    {
     "data": {
      "text/html": [
       "\n",
       "<div id=\"altair-viz-00d1cbf2dfd340b0bbe03a0a3dc1063e\"></div>\n",
       "<script type=\"text/javascript\">\n",
       "  var VEGA_DEBUG = (typeof VEGA_DEBUG == \"undefined\") ? {} : VEGA_DEBUG;\n",
       "  (function(spec, embedOpt){\n",
       "    let outputDiv = document.currentScript.previousElementSibling;\n",
       "    if (outputDiv.id !== \"altair-viz-00d1cbf2dfd340b0bbe03a0a3dc1063e\") {\n",
       "      outputDiv = document.getElementById(\"altair-viz-00d1cbf2dfd340b0bbe03a0a3dc1063e\");\n",
       "    }\n",
       "    const paths = {\n",
       "      \"vega\": \"https://cdn.jsdelivr.net/npm//vega@5?noext\",\n",
       "      \"vega-lib\": \"https://cdn.jsdelivr.net/npm//vega-lib?noext\",\n",
       "      \"vega-lite\": \"https://cdn.jsdelivr.net/npm//vega-lite@4.17.0?noext\",\n",
       "      \"vega-embed\": \"https://cdn.jsdelivr.net/npm//vega-embed@6?noext\",\n",
       "    };\n",
       "\n",
       "    function maybeLoadScript(lib, version) {\n",
       "      var key = `${lib.replace(\"-\", \"\")}_version`;\n",
       "      return (VEGA_DEBUG[key] == version) ?\n",
       "        Promise.resolve(paths[lib]) :\n",
       "        new Promise(function(resolve, reject) {\n",
       "          var s = document.createElement('script');\n",
       "          document.getElementsByTagName(\"head\")[0].appendChild(s);\n",
       "          s.async = true;\n",
       "          s.onload = () => {\n",
       "            VEGA_DEBUG[key] = version;\n",
       "            return resolve(paths[lib]);\n",
       "          };\n",
       "          s.onerror = () => reject(`Error loading script: ${paths[lib]}`);\n",
       "          s.src = paths[lib];\n",
       "        });\n",
       "    }\n",
       "\n",
       "    function showError(err) {\n",
       "      outputDiv.innerHTML = `<div class=\"error\" style=\"color:red;\">${err}</div>`;\n",
       "      throw err;\n",
       "    }\n",
       "\n",
       "    function displayChart(vegaEmbed) {\n",
       "      vegaEmbed(outputDiv, spec, embedOpt)\n",
       "        .catch(err => showError(`Javascript Error: ${err.message}<br>This usually means there's a typo in your chart specification. See the javascript console for the full traceback.`));\n",
       "    }\n",
       "\n",
       "    if(typeof define === \"function\" && define.amd) {\n",
       "      requirejs.config({paths});\n",
       "      require([\"vega-embed\"], displayChart, err => showError(`Error loading script: ${err.message}`));\n",
       "    } else {\n",
       "      maybeLoadScript(\"vega\", \"5\")\n",
       "        .then(() => maybeLoadScript(\"vega-lite\", \"4.17.0\"))\n",
       "        .then(() => maybeLoadScript(\"vega-embed\", \"6\"))\n",
       "        .catch(showError)\n",
       "        .then(() => displayChart(vegaEmbed));\n",
       "    }\n",
       "  })({\"config\": {\"view\": {\"continuousWidth\": 400, \"continuousHeight\": 300}}, \"hconcat\": [{\"data\": {\"url\": \"https://raw.githubusercontent.com/UIUC-iSchool-DataViz/is445_bcubcg_fall2022/main/data/bfro_reports_fall2022.csv\"}, \"mark\": \"rect\", \"encoding\": {\"color\": {\"aggregate\": \"count\", \"type\": \"quantitative\"}, \"x\": {\"bin\": {\"maxbins\": 10}, \"field\": \"humidity\", \"type\": \"quantitative\"}, \"y\": {\"field\": \"state\", \"type\": \"ordinal\"}}, \"height\": 400, \"selection\": {\"selector001\": {\"type\": \"interval\", \"encodings\": [\"x\", \"y\"]}}, \"width\": 300}, {\"data\": {\"url\": \"https://raw.githubusercontent.com/UIUC-iSchool-DataViz/is445_bcubcg_fall2022/main/data/bfro_reports_fall2022.csv\"}, \"mark\": \"bar\", \"encoding\": {\"x\": {\"bin\": {\"maxbins\": 15}, \"field\": \"humidity\", \"title\": \"Humidity Score\", \"type\": \"quantitative\"}, \"y\": {\"aggregate\": \"count\", \"axis\": {\"title\": \"Frequency\"}, \"type\": \"quantitative\"}}, \"transform\": [{\"filter\": {\"selection\": \"selector001\"}}]}], \"$schema\": \"https://vega.github.io/schema/vega-lite/v4.17.0.json\"}, {\"mode\": \"vega-lite\"});\n",
       "</script>"
      ],
      "text/plain": [
       "alt.HConcatChart(...)"
      ]
     },
     "execution_count": 31,
     "metadata": {},
     "output_type": "execute_result"
    }
   ],
   "source": [
    "dashboard1"
   ]
  },
  {
   "cell_type": "code",
   "execution_count": 38,
   "id": "ac926acc",
   "metadata": {},
   "outputs": [],
   "source": [
    "dashboard1.save(myJekyllSaveDir+'vis1_dashboard_select_interact.json')"
   ]
  },
  {
   "cell_type": "markdown",
   "id": "4bf7ef93",
   "metadata": {},
   "source": [
    "This dashboard is the same as the one above it, but with added interactivity. For our Rect visualization we choose to use Interval Selection type of interactivity. With interval selection when you click or drag your mouse over the chart you can select different sections of the chart.\n",
    "\n",
    "Values that fall within both the x and y extents are considered selected.\n",
    "\n",
    "It is possible to bind the interval selection to only x axis but for our chart we used the default and included both x and y extents as part of the selection.\n",
    "\n",
    "We created bins for humidity in our Rect chart for each State. Interval selection was the obvious choice for this type of plot as it allows to highlight the data points seamlessly.\n",
    "\n",
    "For binned data interval selection is best suited as we cannot select individual blocks. We also did transformation of our Rect plot with a histogram using the selection interactivity."
   ]
  },
  {
   "cell_type": "markdown",
   "id": "ec9978de",
   "metadata": {},
   "source": [
    "#### Our Second Hist Plot with Select Interactivity\n",
    "\n",
    "hist2 = alt.Chart.from_dict(\n",
    " {\n",
    "  \"data\":{\"url\":\"https://raw.githubusercontent.com/UIUC-iSchool-DataViz/is445_bcubcg_fall2022/main/data/bfro_reports_fall2022.csv\"},\n",
    "  \"params\": [\n",
    "    {\n",
    "      \"name\": \"highlight\",\n",
    "      \"select\": {\"type\": \"point\", \"on\": \"mouseover\"}\n",
    "    },\n",
    "    {\"name\": \"select\", \"select\": \"point\"}\n",
    "  ],\n",
    "    \"mark\": {\n",
    "    \"type\": \"bar\",\n",
    "    \"fill\": \"#4C78A8\",\n",
    "    \"stroke\": \"black\",\n",
    "    \"cursor\": \"pointer\"\n",
    "  },\n",
    "  \"encoding\":{\n",
    "    \"x\":{\"bin\":{\"maxbins\":15},\"field\":\"humidity\", \"type\":\"quantitative\", \"title\":\"Humidity Score\"},\n",
    "    \"y\":{\"aggregate\":\"count\", \"type\":\"quantitative\", \"axis\":{\"title\":\"Frequency\"}}, #// count up occurances on x-axis (Mobility)\n",
    " \t    \"fillOpacity\": {\n",
    "      \"condition\": {\"param\": \"select\", \"value\": 1},\n",
    "      \"value\": 0.3\n",
    "    },\n",
    "    \"strokeWidth\": {\n",
    "      \"condition\": [\n",
    "        {\n",
    "          \"param\": \"select\",\n",
    "          \"empty\": False,\n",
    "          \"value\": 2\n",
    "        },\n",
    "        {\n",
    "          \"param\": \"highlight\",\n",
    "          \"empty\": False,\n",
    "          \"value\": 1\n",
    "        }\n",
    "      ],\n",
    "      \"value\": 0\n",
    "    }\n",
    "  }, #// end of encoding\n",
    "  \"config\": {\n",
    "    \"scale\": {\n",
    "      \"bandPaddingInner\": 0.2\n",
    "    }\n",
    "  }\n",
    " \n",
    "}   \n",
    ")"
   ]
  },
  {
   "cell_type": "markdown",
   "id": "a8078e85",
   "metadata": {},
   "source": [
    "For our second interactive visualization we created a bar plot for visibility score where we can select each element of the bar plot. It highlights the bar when we hover the mouse over it and selects when we click it. There is also an added tooltip which displays the visibility score range and exact number of records for that range. This added interaction makes the specific range of visibility score stand out and would be really helpful for presentation purposes."
   ]
  },
  {
   "cell_type": "code",
   "execution_count": null,
   "id": "491e7a4b",
   "metadata": {},
   "outputs": [],
   "source": []
  }
 ],
 "metadata": {
  "kernelspec": {
   "display_name": "Python 3 (ipykernel)",
   "language": "python",
   "name": "python3"
  },
  "language_info": {
   "codemirror_mode": {
    "name": "ipython",
    "version": 3
   },
   "file_extension": ".py",
   "mimetype": "text/x-python",
   "name": "python",
   "nbconvert_exporter": "python",
   "pygments_lexer": "ipython3",
   "version": "3.8.13"
  }
 },
 "nbformat": 4,
 "nbformat_minor": 5
}
